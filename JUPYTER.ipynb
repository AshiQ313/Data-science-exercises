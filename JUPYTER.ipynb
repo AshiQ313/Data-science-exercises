{
  "metadata": {
    "kernelspec": {
      "name": "python",
      "display_name": "Python (Pyodide)",
      "language": "python"
    },
    "language_info": {
      "codemirror_mode": {
        "name": "python",
        "version": 3
      },
      "file_extension": ".py",
      "mimetype": "text/x-python",
      "name": "python",
      "nbconvert_exporter": "python",
      "pygments_lexer": "ipython3",
      "version": "3.8"
    }
  },
  "nbformat_minor": 4,
  "nbformat": 4,
  "cells": [
    {
      "cell_type": "markdown",
      "source": "# Data Science Exercises",
      "metadata": {}
    },
    {
      "cell_type": "markdown",
      "source": "This is an introductory sentence to explain the content of this notebook.",
      "metadata": {}
    },
    {
      "cell_type": "markdown",
      "source": " Below is an ordered list of programming languages commonly used in data science:\n\n1. Python\n2. R\n3. SQL\n4. Julia\n5. Java",
      "metadata": {}
    },
    {
      "cell_type": "markdown",
      "source": "Below is an ordered list of popular data science libraries:\n\n1. NumPy\n2. Pandas\n3. Matplotlib\n4. Scikit-learn\n5. TensorFlow",
      "metadata": {}
    },
    {
      "cell_type": "markdown",
      "source": "| Data Science Tool    | Description                      |\n|----------------------|----------------------------------|\n| Jupyter Notebook     | Interactive coding environment  |\n| RStudio              | IDE for R programming           |\n| Apache Spark         | Distributed data processing     |",
      "metadata": {}
    },
    {
      "cell_type": "markdown",
      "source": "This section provides examples of basic arithmetic expressions commonly used in programming.",
      "metadata": {}
    },
    {
      "cell_type": "code",
      "source": "# This code multiplies two numbers and adds another number\nresult = (3 * 4) + 5\nprint(\"The result is:\", result)",
      "metadata": {
        "trusted": true
      },
      "outputs": [
        {
          "name": "stdout",
          "text": "The result is: 17\n",
          "output_type": "stream"
        }
      ],
      "execution_count": 5
    },
    {
      "cell_type": "code",
      "source": "# This code converts minutes to hours\nminutes = 150\nhours = minutes / 60\nprint(f\"{minutes} minutes is equal to {hours:.2f} hours.\")",
      "metadata": {
        "trusted": true
      },
      "outputs": [
        {
          "name": "stdout",
          "text": "150 minutes is equal to 2.50 hours.\n",
          "output_type": "stream"
        }
      ],
      "execution_count": 6
    },
    {
      "cell_type": "markdown",
      "source": "The objectives of this exercise are:\n- Understand how to create markdown cells in Jupyter Notebook.\n- Learn to format text and lists using markdown.\n- Practice saving and documenting work effectively.",
      "metadata": {}
    },
    {
      "cell_type": "markdown",
      "source": "**Author:** John Doe  \n**Date:** December 5, 2024",
      "metadata": {}
    }
  ]
}